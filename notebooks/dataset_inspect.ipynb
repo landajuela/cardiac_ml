{
 "cells": [
  {
   "cell_type": "markdown",
   "metadata": {},
   "source": [
    "# Data analysis of Simulated Intracardiac Transmembrane Voltage Recordings and ECG Signals"
   ]
  },
  {
   "cell_type": "code",
   "execution_count": null,
   "metadata": {},
   "outputs": [],
   "source": [
    "# Import image module\n",
    "from IPython.display import Image\n",
    "# Get the image\n",
    "Image(url=\"../figures/banner.png\")"
   ]
  },
  {
   "cell_type": "markdown",
   "metadata": {},
   "source": [
    "## Load Modules and Preprocessing Functions"
   ]
  },
  {
   "cell_type": "markdown",
   "metadata": {},
   "source": [
    "Read the current directory:"
   ]
  },
  {
   "cell_type": "code",
   "execution_count": null,
   "metadata": {},
   "outputs": [],
   "source": [
    "import os\n",
    "print('The working directory is :{}'.format(os.getcwd()))"
   ]
  },
  {
   "cell_type": "markdown",
   "metadata": {},
   "source": [
    "Load libraries:"
   ]
  },
  {
   "cell_type": "code",
   "execution_count": null,
   "metadata": {},
   "outputs": [],
   "source": [
    "import sys\n",
    "print(\"Python is in %s\" % sys.executable)\n",
    "print(\"Python version is %s.%s.%s\" % sys.version_info[:3])\n",
    "import glob\n",
    "import re, os\n",
    "import numpy as np\n",
    "import matplotlib.pyplot as plt\n",
    "import pandas as pd\n",
    "import torch"
   ]
  },
  {
   "cell_type": "markdown",
   "metadata": {},
   "source": [
    "The function ``read_data_dirs`` is needed to read the numpy arrays:"
   ]
  },
  {
   "cell_type": "code",
   "execution_count": null,
   "metadata": {},
   "outputs": [],
   "source": [
    "def read_data_dirs(dirs_names, verbose = 0):\n",
    "    \n",
    "    file_pairs = []\n",
    "    \n",
    "    for dir in dirs_names:    \n",
    "        all_files = sorted(glob.glob(dir + '/*.npy'))\n",
    "        files_Vm=[]\n",
    "        files_pECG=[]\n",
    "        \n",
    "        if verbose > 0:\n",
    "            print('Reading files...',end='')\n",
    "        for file in all_files:\n",
    "            if 'VmData' in file:\n",
    "                files_Vm.append(file)\n",
    "            if 'pECGData' in file:\n",
    "                files_pECG.append(file)\n",
    "        if verbose > 0:        \n",
    "            print(' done.')\n",
    "        \n",
    "        if verbose > 0:\n",
    "            print('len(files_pECG) : {}'.format(len(files_pECG)))\n",
    "            print('len(files_Vm) : {}'.format(len(files_Vm)))\n",
    "        \n",
    "        for i in range(len(files_pECG)):  \n",
    "            VmName =  files_Vm[i]\n",
    "            VmName = VmName.replace('VmData', '')\n",
    "            pECGName =  files_pECG[i]\n",
    "            pECGName = pECGName.replace('pECGData', '')            \n",
    "            if pECGName == VmName :\n",
    "                file_pairs.append([files_pECG[i], files_Vm[i]])\n",
    "            else:\n",
    "                print('Automatic sorted not matching, looking for pairs ...',end='')\n",
    "                for j in range(len(files_Vm)):\n",
    "                    VmName =  files_Vm[j]\n",
    "                    VmName = VmName.replace('VmData', '')\n",
    "                    if pECGName == VmName :\n",
    "                        file_pairs.append([files_pECG[i], files_Vm[j]])\n",
    "                print('done.')       \n",
    "    return file_pairs"
   ]
  },
  {
   "cell_type": "markdown",
   "metadata": {},
   "source": [
    "## Load the dataset"
   ]
  },
  {
   "cell_type": "code",
   "execution_count": null,
   "metadata": {},
   "outputs": [],
   "source": [
    "data_dirs = []\n",
    "regex = r'data_hearts_dd_0p2*'\n",
    "DIR='../'\n",
    "for x in os.listdir(DIR):\n",
    "    if re.match(regex, x):\n",
    "        data_dirs.append(DIR + x)\n",
    "\n",
    "file_pairs = read_data_dirs(data_dirs)\n",
    "len(file_pairs)"
   ]
  },
  {
   "cell_type": "markdown",
   "metadata": {},
   "source": [
    "## Plot one simulation"
   ]
  },
  {
   "cell_type": "code",
   "execution_count": null,
   "metadata": {},
   "outputs": [],
   "source": [
    "row = 3; column = 4\n",
    "scaling_ecg = \"none\"\n",
    "plt.figure(figsize=(10, 7))\n",
    "titles = [\"I\", \"II\", \"III\", \"aVR\", \"aVL\", \"aVF\", \"V1\", \"V2\", \"V3\", \"V4\", \"V5\", \"V6\"]\n",
    "\n",
    "row = 3; column = 4    \n",
    "reorder = {1:1,2:5,3:9,4:2,5:6,6:10,7:3,8:7,9:11,10:4,11:8,12:12}\n",
    "\n",
    "index = np.random.choice(range(len(file_pairs)),1)\n",
    "index = [213]\n",
    "\n",
    "for case in index:\n",
    "\n",
    "    print('Case {} : {}'.format(case, file_pairs[case][0]))\n",
    "    pECGData = np.load(file_pairs[case][0])\n",
    "    VmData = np.load(file_pairs[case][1])\n",
    "    \n",
    "    dataECG = torch.Tensor(pECGData)               # dataECG  : RA LA LL RL V1 V2 V3 V4 V5 V6\n",
    "    ecg12aux = torch.zeros(dataECG.shape[0],12)    # ecg12aux : i, ii, iii, avr, avl, avf, v1, v2, v3, v4, v5, v6\n",
    "    WilsonLead = 0.33333333 * (dataECG[:,0] + dataECG[:,1] + dataECG[:,2])           \n",
    "    # Lead I: LA - RA\n",
    "    ecg12aux[:,0] = dataECG[:,1] - dataECG[:,0]\n",
    "    # Lead II: LL - RA\n",
    "    ecg12aux[:,1] = dataECG[:,2] - dataECG[:,0]\n",
    "    # Lead III: LL - LA\n",
    "    ecg12aux[:,2] = dataECG[:,2] - dataECG[:,1]\n",
    "    # Lead aVR: 3/2 (RA - Vw)\n",
    "    ecg12aux[:,3] = 1.5*(dataECG[:,0] - WilsonLead)\n",
    "    # Lead aVL: 3/2 (LA - Vw)\n",
    "    ecg12aux[:,4] = 1.5*(dataECG[:,1] - WilsonLead)\n",
    "    # Lead aVF: 3/2 (LL - Vw)\n",
    "    ecg12aux[:,5] = 1.5*(dataECG[:,2] - WilsonLead)\n",
    "    # Lead V1: V1 - Vw\n",
    "    ecg12aux[:,6] = dataECG[:,4] - WilsonLead\n",
    "    # Lead V2: V2 - Vw\n",
    "    ecg12aux[:,7] = dataECG[:,5] - WilsonLead\n",
    "    # Lead V3: V3 - Vw\n",
    "    ecg12aux[:,8] = dataECG[:,6] - WilsonLead\n",
    "    # Lead V4: V4 - Vw\n",
    "    ecg12aux[:,9] = dataECG[:,7] - WilsonLead\n",
    "    # Lead V5: V5 - Vw\n",
    "    ecg12aux[:,10] = dataECG[:,8] - WilsonLead\n",
    "    # Lead V6: V6 - Vw\n",
    "    ecg12aux[:,11] = dataECG[:,9] - WilsonLead\n",
    "    pECGData = ecg12aux\n",
    "    \n",
    "    for i in range(pECGData.shape[1]):\n",
    "        plt.subplot(row, column, reorder[i + 1])\n",
    "        plt.plot(pECGData[0:500,i],'r')\n",
    "        plt.title(titles[i])\n",
    "        plt.grid(visible=True, which='major', color='#666666', linestyle='-')\n",
    "        plt.minorticks_on()\n",
    "        plt.grid(visible=True, which='minor', color='#999999', linestyle='-', alpha=0.2)\n",
    "        #plt.xlabel('msec')\n",
    "        #plt.ylabel('mV')\n",
    "    plt.tight_layout()\n",
    "    plt.show()"
   ]
  },
  {
   "cell_type": "code",
   "execution_count": null,
   "metadata": {},
   "outputs": [],
   "source": [
    "num_timesteps = 500\n",
    "plt.figure(figsize=(18, 9))\n",
    "row = 7; column = 10\n",
    "\n",
    "index = np.random.choice(range(len(file_pairs)),1)\n",
    "index = [213]\n",
    "\n",
    "for case in index:\n",
    "    VmData = np.load(file_pairs[case][1])\n",
    "    randomIndex = range(VmData.shape[1])\n",
    "    for count, i in enumerate(randomIndex):\n",
    "        plt.subplot(8, 10, count + 1)\n",
    "        plt.plot(VmData[0:num_timesteps,i])\n",
    "        plt.title(f'i = {i}')\n",
    "        plt.grid(visible=True, which='major', color='#666666', linestyle='-')\n",
    "        plt.minorticks_on()\n",
    "        plt.grid(visible=True, which='minor', color='#999999', linestyle='-', alpha=0.2)\n",
    "plt.tight_layout()\n",
    "plt.show()"
   ]
  },
  {
   "cell_type": "code",
   "execution_count": null,
   "metadata": {},
   "outputs": [],
   "source": []
  }
 ],
 "metadata": {
  "interpreter": {
   "hash": "31f2aee4e71d21fbe5cf8b01ff0e069b9275f58929596ceb00d14d90e3e16cd6"
  },
  "kernelspec": {
   "display_name": "PyTorch_Kernel",
   "language": "python",
   "name": "python3"
  },
  "language_info": {
   "codemirror_mode": {
    "name": "ipython",
    "version": 3
   },
   "file_extension": ".py",
   "mimetype": "text/x-python",
   "name": "python",
   "nbconvert_exporter": "python",
   "pygments_lexer": "ipython3",
   "version": "3.8.9"
  }
 },
 "nbformat": 4,
 "nbformat_minor": 1
}
